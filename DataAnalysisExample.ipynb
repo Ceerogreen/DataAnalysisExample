{
 "cells": [
  {
   "cell_type": "markdown",
   "metadata": {},
   "source": [
    "Objective: Build UI components in Dash. \n",
    "\n",
    "Task: Build an app that contains the following components user the gapminder dataset: `gdp_pcap.csv`. [Info](https://www.gapminder.org/gdp-per-capita/)\n",
    "\n",
    "UI Components:\n",
    "A dropdown menu that allows the user to select `country`\n",
    "A slider that allows the user to select `year`\n",
    "A graph that displays the `gdpPercap` for the selected countries over the selected years"
   ]
  },
  {
   "cell_type": "markdown",
   "metadata": {},
   "source": [
    "Note to Readers: This is designed to be run to create an interactive, exploratory app to do data analysis with.\n",
    "Both a Jupyter Notebook and HTML file to use this interactively can be found on my GitHub at:\n",
    "\n"
   ]
  },
  {
   "cell_type": "code",
   "execution_count": 1,
   "metadata": {},
   "outputs": [],
   "source": [
    "# import dependencies\n",
    "\n",
    "from dash import Dash, html, dcc, Input, Output, callback \n",
    "import pandas as pd\n",
    "import plotly.express as px\n",
    "import re"
   ]
  },
  {
   "cell_type": "code",
   "execution_count": 2,
   "metadata": {},
   "outputs": [],
   "source": [
    "# read in dataframe, indexing by country\n",
    "\n",
    "gdp = pd.read_csv('gdp_pcap.csv',index_col='country')"
   ]
  },
  {
   "cell_type": "code",
   "execution_count": 3,
   "metadata": {},
   "outputs": [],
   "source": [
    "# import external stylesheets\n",
    "\n",
    "stylesheets = ['https://codepen.io/chriddyp/pen/bWLwgP.css']"
   ]
  },
  {
   "cell_type": "code",
   "execution_count": 4,
   "metadata": {},
   "outputs": [],
   "source": [
    "# clean data\n",
    "\n",
    "gdp_stack = gdp.stack().reset_index() # stacking to make the year a column, allowing easier subsetting\n",
    "gdp_stack.rename({'level_1':'year',0:'gdp'},axis=1,inplace=True) # changing column names to easier understand in later code\n",
    "gdp_stack['year'] = gdp_stack['year'].astype(int) # converting year from a string to an int for later boolean comparisons\n",
    "\n",
    "gdp_stack['gdp'] = [re.sub(r'(\\d)\\.(\\d)k',r'\\1\\2\\\\00',str(x)) for x in gdp_stack['gdp']] # Replace A.Bk with AB\\00\n",
    "gdp_stack['gdp'] = [re.sub(r'k',r'000',str(x)) for x in gdp_stack['gdp']] # Replace Ak with A000\n",
    "gdp_stack['gdp'] = [re.sub(r'\\\\',r'',str(x)) for x in gdp_stack['gdp']] # Remove \\ from strings\n",
    "gdp_stack['gdp'] = gdp_stack['gdp'].astype(int) # Convert gdp to an integer"
   ]
  },
  {
   "cell_type": "code",
   "execution_count": 5,
   "metadata": {},
   "outputs": [],
   "source": [
    "# initialize app\n",
    "app = Dash(__name__,external_stylesheets=stylesheets)\n",
    "\n",
    "# Get list of years as integers\n",
    "years = list(gdp.columns)\n",
    "years = [int(i) for i in years]\n",
    "\n",
    "\n",
    "# Reset gdp index to pull country names from a column later\n",
    "gdp.reset_index(inplace=True)\n",
    "\n",
    "# define layout and elements\n",
    "app.layout = html.Div([\n",
    "    html.Div(children = [ # Creates the Title and Explanatory Paragraph\n",
    "        html.H2('''Understanding Different Countries\\' GDP per Capita over Time'''),\n",
    "        html.H6('''This is an interactive graph designed to allow users to visualize GDP per capita trends in different countries. \n",
    "        The data comes from a dataframe that has collected each countries GDP per capita in from the years 1800-2100. \n",
    "        Users can select the countries they want to evaluate from the dropdown (by default, all countries are shown). \n",
    "        Additionally, users can select the timespan they want to view from the slider (by default, uses the full range).\n",
    "        ''')\n",
    "    ]),\n",
    "    html.Div(children = [ # Contains the row with the dropdown and the slider\n",
    "        html.Div(children = [\n",
    "            dcc.Dropdown( # Create dropdown\n",
    "                id = 'country_dropdown',\n",
    "                options = gdp['country'].unique(), # Takes all countries in gdp['country'] that are unique as options\n",
    "                multi=True, # Allows for multiple countries to be selected\n",
    "                placeholder='Select Countries' # placeholder instructional text\n",
    "                ),\n",
    "            \n",
    "        ], className='six columns'),\n",
    "        html.Div(children = [\n",
    "            dcc.RangeSlider( # Create RangeSlider\n",
    "                min = min(years), # Takes minimum year (dynamic)\n",
    "                max = max(years), # Takes maximum year (dynamic)\n",
    "                step=1,\n",
    "                value = [min(years),max(years)], # Default value to entire range\n",
    "                marks=None, # Remove marks, only provides clutter due to large range\n",
    "                tooltip={ # Use tooltips to see selected years\n",
    "                    \"placement\": \"bottom\",\n",
    "                    \"always_visible\": True,\n",
    "                },\n",
    "                id = 'year_slider'\n",
    "            )\n",
    "        ], className='six columns'),\n",
    "    ], className='row'),\n",
    "    html.Div([ # Creates the graph\n",
    "        dcc.Graph(\n",
    "        id='gdp_Graph'\n",
    "        )\n",
    "    ])\n",
    "])\n",
    "\n",
    "@callback( # Callback that takes input from the dropdown and slider to output the graph\n",
    "    Output('gdp_Graph', 'figure'),\n",
    "    Input('country_dropdown', 'value'),\n",
    "    Input('year_slider','value')\n",
    ")\n",
    "def update_figure(selected_countries,selected_years): # function to update the figure\n",
    "    if not selected_countries: # Scenario where no countries are selected (breaks the isin if selected countries is []). Defaults to all countries\n",
    "        ncfilter1 = gdp_stack['year'].le(selected_years[1]) # Only keep data from years less than or equal to the slider maximum\n",
    "        ncfiltered_gdp = gdp_stack[ncfilter1]\n",
    "        ncfilter2 = ncfiltered_gdp['year'].ge(selected_years[0]) # Only keep data from years greater than or equal to the slider minimum\n",
    "        ncfiltered_gdp = ncfiltered_gdp[ncfilter2] \n",
    "        fig = px.line(ncfiltered_gdp, x='year', y='gdp',color='country', # Plot the figure using year, gdp, coloring by country\n",
    "            title='Per Capita GDP of Selected Countries over Time',\n",
    "            labels={'year':'Year','country':'Countries','gdp':'Per Capita GDP'}) # Change to best title and axis names\n",
    "\n",
    "        return fig\n",
    "    filter1 = gdp_stack['country'].isin(selected_countries) # Only keep data from selected countries\n",
    "    filtered_gdp = gdp_stack[filter1]\n",
    "    filter2 = filtered_gdp['year'].le(selected_years[1]) # Only keep data from years less than or equal to the slider maximum\n",
    "    filtered_gdp = filtered_gdp[filter2]\n",
    "    filter3 = filtered_gdp['year'].ge(selected_years[0]) # Only keep data from years greater than or equal to the slider minimum\n",
    "    filtered_gdp = filtered_gdp[filter3]\n",
    "\n",
    "    fig = px.line(filtered_gdp, x='year', y='gdp',color='country', # Plot the figure using year, gdp, coloring by country\n",
    "        title='Per Capita GDP of Selected Countries over Time',\n",
    "        labels={'year':'Year','country':'Countries','gdp':'Per Capita GDP'}) # Change to best title and axis names\n",
    "\n",
    "    fig.update_layout(transition_duration = 500) # Set a brief transition duration for smoother use\n",
    "\n",
    "    return fig"
   ]
  },
  {
   "cell_type": "code",
   "execution_count": 6,
   "metadata": {},
   "outputs": [
    {
     "data": {
      "text/html": [
       "\n",
       "        <iframe\n",
       "            width=\"100%\"\n",
       "            height=\"650\"\n",
       "            src=\"http://127.0.0.1:8049/\"\n",
       "            frameborder=\"0\"\n",
       "            allowfullscreen\n",
       "            \n",
       "        ></iframe>\n",
       "        "
      ],
      "text/plain": [
       "<IPython.lib.display.IFrame at 0x16c58664fa0>"
      ]
     },
     "metadata": {},
     "output_type": "display_data"
    }
   ],
   "source": [
    "# run app\n",
    "if __name__ == '__main__':\n",
    "    app.run(debug=True, port=8049)"
   ]
  }
 ],
 "metadata": {
  "kernelspec": {
   "display_name": "ds4003",
   "language": "python",
   "name": "python3"
  },
  "language_info": {
   "codemirror_mode": {
    "name": "ipython",
    "version": 3
   },
   "file_extension": ".py",
   "mimetype": "text/x-python",
   "name": "python",
   "nbconvert_exporter": "python",
   "pygments_lexer": "ipython3",
   "version": "3.8.18"
  }
 },
 "nbformat": 4,
 "nbformat_minor": 2
}
